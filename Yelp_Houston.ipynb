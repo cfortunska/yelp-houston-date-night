{
 "cells": [
  {
   "cell_type": "code",
   "execution_count": null,
   "id": "90748b26-fd5f-4188-bdf6-2f9f484d8023",
   "metadata": {},
   "outputs": [],
   "source": [
    "#libraries\n",
    "import requests as r\n",
    "import pandas as pd\n",
    "import numpy as np\n",
    "from itertools import product\n",
    "import matplotlib.pyplot as plt\n",
    "import seaborn as sns"
   ]
  },
  {
   "cell_type": "code",
   "execution_count": null,
   "id": "0868651a-d1f9-4eb7-a438-6d3edf0526a0",
   "metadata": {},
   "outputs": [],
   "source": [
    "#credentials, key removed\n",
    "url='https://api.yelp.com/v3/businesses/search'\n",
    "key=''\n",
    "headers={'Authorization':'Bearer %s' %key}"
   ]
  },
  {
   "cell_type": "code",
   "execution_count": null,
   "id": "19e2ae77-2243-4b6c-ba9a-00e019f11de9",
   "metadata": {},
   "outputs": [],
   "source": [
    "#parameters, scraping sample size to check out data\n",
    "parameters= {'location': '919 Milam Street, Houston TX, 77002', 'limit': 3, 'term': 'romantic', 'radius': 20000}\n",
    "response=r.get(url, headers=headers, params=parameters)\n",
    "data=response.json()\n",
    "data"
   ]
  },
  {
   "cell_type": "code",
   "execution_count": null,
   "id": "28140065-19fa-49fb-a57d-a73dae8fb203",
   "metadata": {},
   "outputs": [],
   "source": [
    "#1000 limit and 50 steps\n",
    "#multiple addresses, 500 listings this time\n",
    "addresses= ['919 Milam Street, Houston TX, 77002']\n",
    "offset=np.arange(0,1000,50)\n",
    "\n",
    "#list of tuples, combination of address and offset\n",
    "tuples=list(product(addresses, offset))\n",
    "\n",
    "#viewing 5\n",
    "tuples[:5]"
   ]
  },
  {
   "cell_type": "code",
   "execution_count": null,
   "id": "db9fe23e-23bb-4af1-9849-b07af9b33ce2",
   "metadata": {},
   "outputs": [],
   "source": [
    "#for loop, store results into list of list, turn into DF\n",
    "listings=[]\n",
    "#future DF columns\n",
    "cols=['Name', 'Reviews', 'Rating', 'Address', 'Phone', 'Latitude', 'Longitude','Category']\n",
    "\n",
    "#for loop\n",
    "for address, step in tuples:\n",
    "    search_parameters={\n",
    "        'location': address,\n",
    "        'term': 'romantic', \n",
    "        'radius': 20000,\n",
    "        'limit': 50, \n",
    "        'offset': step}\n",
    "    resp=r.get(url, headers=headers, params=search_parameters)\n",
    "    raw_data=resp.json()\n",
    "    for business in raw_data['businesses']:\n",
    "        name = business['name']\n",
    "        reviews = business['review_count']\n",
    "        rating = business['rating']\n",
    "        location = business['location']['display_address'][0]\n",
    "        phone = business['display_phone']\n",
    "        latitude = business['coordinates']['latitude']\n",
    "        longitude = business['coordinates']['longitude']\n",
    "        category = business['categories'][0]['title']\n",
    "        listings.append([name, reviews, rating, location, phone, latitude, longitude, category])\n",
    "    df = pd.DataFrame.from_records(listings, index='Name', columns=cols)\n",
    "\n",
    "#checking out the intial dataset\n",
    "print(f'Total Records : {len(df)}')\n",
    "df.head()"
   ]
  },
  {
   "cell_type": "code",
   "execution_count": null,
   "id": "b4486fca-edcb-41a1-bb6f-bc248a826ec0",
   "metadata": {},
   "outputs": [],
   "source": [
    "#EDA\n",
    "display(df.info())\n",
    "display(df.describe())"
   ]
  },
  {
   "cell_type": "code",
   "execution_count": null,
   "id": "6724caff-5bb8-4bee-be6c-f17af92a70e1",
   "metadata": {},
   "outputs": [],
   "source": [
    "#Check out places with most reviews and highest ratings\n",
    "df=df.sort_values(by='Reviews', ascending=False)\n",
    "display(df.head())\n",
    "df=df.sort_values(by='Rating', ascending=False)\n",
    "display(df.head())"
   ]
  },
  {
   "cell_type": "code",
   "execution_count": null,
   "id": "cd2f7b3d-c3a5-4900-9c1e-e5804957b414",
   "metadata": {},
   "outputs": [],
   "source": [
    "#visualization\n",
    "g=sns.catplot(x='Category', data=df, kind='count')\n",
    "plt.xticks(rotation=90)\n",
    "g.fig.set_size_inches(15,15)"
   ]
  },
  {
   "cell_type": "code",
   "execution_count": null,
   "id": "98e7c6e5-1c13-4c53-8431-02387e6b485b",
   "metadata": {},
   "outputs": [],
   "source": [
    "pd.set_option(\"display.max_rows\", None, \"display.max_columns\", None)\n",
    "print(df.groupby(['Category']).agg(['mean', 'min', 'max', 'std', 'count']).Rating)"
   ]
  }
 ],
 "metadata": {
  "kernelspec": {
   "display_name": "Python 3 (ipykernel)",
   "language": "python",
   "name": "python3"
  },
  "language_info": {
   "codemirror_mode": {
    "name": "ipython",
    "version": 3
   },
   "file_extension": ".py",
   "mimetype": "text/x-python",
   "name": "python",
   "nbconvert_exporter": "python",
   "pygments_lexer": "ipython3",
   "version": "3.9.12"
  }
 },
 "nbformat": 4,
 "nbformat_minor": 5
}
